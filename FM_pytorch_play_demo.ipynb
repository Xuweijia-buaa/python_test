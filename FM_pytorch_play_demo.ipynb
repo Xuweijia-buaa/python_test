{
 "cells": [
  {
   "cell_type": "code",
   "execution_count": 39,
   "id": "7ad955e6",
   "metadata": {},
   "outputs": [],
   "source": [
    "import torch\n",
    "import torch.nn as nn\n",
    "import torch.nn.functional as F\n",
    "import torch.optim as optim\n",
    "from torch.utils.data import DataLoader, Dataset, TensorDataset\n",
    "import numpy as np\n",
    "import pandas as pd"
   ]
  },
  {
   "cell_type": "code",
   "execution_count": 10,
   "id": "2bbf9fa7",
   "metadata": {},
   "outputs": [],
   "source": [
    "class simpleNet(nn.Module):  # 继承nn.Module\n",
    "    def __init__(self):\n",
    "        super(simpleNet, self).__init__()\n",
    "        self.l1 = nn.Linear(32,5)\n",
    "        self.l2 = nn.Linear(5,2)\n",
    " \n",
    "\n",
    "    def forward(self, x):\n",
    "        x = self.l1(x)\n",
    "        x = self.l2(x)\n",
    "        output = F.log_softmax(x, dim=1)\n",
    "        return output"
   ]
  },
  {
   "cell_type": "code",
   "execution_count": 11,
   "id": "2edc0012",
   "metadata": {},
   "outputs": [],
   "source": [
    "x=np.ones((3,32))\n",
    "y=np.ones(3)"
   ]
  },
  {
   "cell_type": "code",
   "execution_count": 12,
   "id": "06c796d7",
   "metadata": {},
   "outputs": [],
   "source": [
    "mynet=simpleNet()"
   ]
  },
  {
   "cell_type": "code",
   "execution_count": 14,
   "id": "af7b337e",
   "metadata": {},
   "outputs": [
    {
     "data": {
      "text/plain": [
       "['4']"
      ]
     },
     "execution_count": 14,
     "metadata": {},
     "output_type": "execute_result"
    }
   ],
   "source": [
    "a=[1,2,3,\"4\"]\n",
    "list(filter(lambda x: isinstance(x, str), a)) if len(a) else []"
   ]
  },
  {
   "cell_type": "code",
   "execution_count": 16,
   "id": "87f72d5c",
   "metadata": {},
   "outputs": [
    {
     "data": {
      "text/html": [
       "<div>\n",
       "<style scoped>\n",
       "    .dataframe tbody tr th:only-of-type {\n",
       "        vertical-align: middle;\n",
       "    }\n",
       "\n",
       "    .dataframe tbody tr th {\n",
       "        vertical-align: top;\n",
       "    }\n",
       "\n",
       "    .dataframe thead th {\n",
       "        text-align: right;\n",
       "    }\n",
       "</style>\n",
       "<table border=\"1\" class=\"dataframe\">\n",
       "  <thead>\n",
       "    <tr style=\"text-align: right;\">\n",
       "      <th></th>\n",
       "      <th>a</th>\n",
       "      <th>b</th>\n",
       "      <th>c</th>\n",
       "    </tr>\n",
       "  </thead>\n",
       "  <tbody>\n",
       "    <tr>\n",
       "      <th>0</th>\n",
       "      <td>1</td>\n",
       "      <td>1</td>\n",
       "      <td>man</td>\n",
       "    </tr>\n",
       "    <tr>\n",
       "      <th>1</th>\n",
       "      <td>2</td>\n",
       "      <td>2</td>\n",
       "      <td>woman</td>\n",
       "    </tr>\n",
       "    <tr>\n",
       "      <th>2</th>\n",
       "      <td>3</td>\n",
       "      <td>3</td>\n",
       "      <td>woman</td>\n",
       "    </tr>\n",
       "    <tr>\n",
       "      <th>3</th>\n",
       "      <td>4</td>\n",
       "      <td>4</td>\n",
       "      <td>man</td>\n",
       "    </tr>\n",
       "  </tbody>\n",
       "</table>\n",
       "</div>"
      ],
      "text/plain": [
       "   a  b      c\n",
       "0  1  1    man\n",
       "1  2  2  woman\n",
       "2  3  3  woman\n",
       "3  4  4    man"
      ]
     },
     "execution_count": 16,
     "metadata": {},
     "output_type": "execute_result"
    }
   ],
   "source": [
    "df=pd.DataFrame({\n",
    "    \"a\":[1,2,3,4],\n",
    "    \"b\":[\"1\",\"2\",\"3\",\"4\"],\n",
    "    \"c\":[\"man\",\"woman\",\"woman\",\"man\"]\n",
    "})\n",
    "df"
   ]
  },
  {
   "cell_type": "code",
   "execution_count": 26,
   "id": "bba2f444",
   "metadata": {},
   "outputs": [],
   "source": [
    "import sklearn\n",
    "from sklearn.preprocessing import MinMaxScaler, LabelEncoder  # 数值特征最好也归一化一下。"
   ]
  },
  {
   "cell_type": "code",
   "execution_count": 30,
   "id": "b930e153",
   "metadata": {},
   "outputs": [
    {
     "data": {
      "text/html": [
       "<div>\n",
       "<style scoped>\n",
       "    .dataframe tbody tr th:only-of-type {\n",
       "        vertical-align: middle;\n",
       "    }\n",
       "\n",
       "    .dataframe tbody tr th {\n",
       "        vertical-align: top;\n",
       "    }\n",
       "\n",
       "    .dataframe thead th {\n",
       "        text-align: right;\n",
       "    }\n",
       "</style>\n",
       "<table border=\"1\" class=\"dataframe\">\n",
       "  <thead>\n",
       "    <tr style=\"text-align: right;\">\n",
       "      <th></th>\n",
       "      <th>a</th>\n",
       "      <th>b</th>\n",
       "      <th>c</th>\n",
       "    </tr>\n",
       "  </thead>\n",
       "  <tbody>\n",
       "    <tr>\n",
       "      <th>0</th>\n",
       "      <td>1</td>\n",
       "      <td>0</td>\n",
       "      <td>0</td>\n",
       "    </tr>\n",
       "    <tr>\n",
       "      <th>1</th>\n",
       "      <td>2</td>\n",
       "      <td>1</td>\n",
       "      <td>1</td>\n",
       "    </tr>\n",
       "    <tr>\n",
       "      <th>2</th>\n",
       "      <td>3</td>\n",
       "      <td>2</td>\n",
       "      <td>1</td>\n",
       "    </tr>\n",
       "    <tr>\n",
       "      <th>3</th>\n",
       "      <td>4</td>\n",
       "      <td>3</td>\n",
       "      <td>0</td>\n",
       "    </tr>\n",
       "  </tbody>\n",
       "</table>\n",
       "</div>"
      ],
      "text/plain": [
       "   a  b  c\n",
       "0  1  0  0\n",
       "1  2  1  1\n",
       "2  3  2  1\n",
       "3  4  3  0"
      ]
     },
     "execution_count": 30,
     "metadata": {},
     "output_type": "execute_result"
    }
   ],
   "source": [
    "cal_names=['b','c']\n",
    "for c in cal_names:\n",
    "    le = LabelEncoder()\n",
    "    df[c] = le.fit_transform(df[c]) \n",
    "df"
   ]
  },
  {
   "cell_type": "code",
   "execution_count": 46,
   "id": "608a3e05",
   "metadata": {},
   "outputs": [
    {
     "name": "stdout",
     "output_type": "stream",
     "text": [
      "tensor([[1., 0., 0.],\n",
      "        [2., 1., 1.],\n",
      "        [3., 2., 1.],\n",
      "        [4., 3., 0.]]) tensor([1., 1., 1., 1.])\n"
     ]
    }
   ],
   "source": [
    "dataset = TensorDataset(torch.tensor(df.values).float(), torch.tensor(np.ones(4)).float())\n",
    "\n",
    "loader = DataLoader(dataset, shuffle=False, batch_size=32) \n",
    "\n",
    "for x,y in loader:\n",
    "    print(x,y)"
   ]
  },
  {
   "cell_type": "code",
   "execution_count": 64,
   "id": "6ec04a90",
   "metadata": {},
   "outputs": [
    {
     "data": {
      "text/plain": [
       "tensor([3, 2, 1])"
      ]
     },
     "execution_count": 64,
     "metadata": {},
     "output_type": "execute_result"
    }
   ],
   "source": [
    "# 建自己的dataset:\n",
    "class Mydata(Dataset):\n",
    "    def __init__(self,df):\n",
    "        super(Mydata, self).__init__()\n",
    "        self.df=df\n",
    "    def __len__(self):\n",
    "        return len(self.df)\n",
    "    def __getitem__(self, index):\n",
    "        return torch.tensor(self.df.iloc[index,:].values)\n",
    "    def get_col(self,col_name):                                 # 返回df的某列数据\n",
    "        return torch.tensor(self.df[col_name].values)\n",
    "    \n",
    "mydata=Mydata(df)\n",
    "mydata[2]"
   ]
  },
  {
   "cell_type": "code",
   "execution_count": 65,
   "id": "996107da",
   "metadata": {},
   "outputs": [
    {
     "data": {
      "text/plain": [
       "tensor([1, 2, 3, 4])"
      ]
     },
     "execution_count": 65,
     "metadata": {},
     "output_type": "execute_result"
    }
   ],
   "source": [
    "mydata.get_col('a')"
   ]
  },
  {
   "cell_type": "code",
   "execution_count": 66,
   "id": "220d0a2f",
   "metadata": {},
   "outputs": [
    {
     "name": "stdout",
     "output_type": "stream",
     "text": [
      "tensor([[1, 0, 0],\n",
      "        [2, 1, 1],\n",
      "        [3, 2, 1],\n",
      "        [4, 3, 0]])\n"
     ]
    }
   ],
   "source": [
    "loader = DataLoader(mydata, shuffle=False, batch_size=32)\n",
    "for x in loader:  # 只轮询一遍。对应一个epoch。 用的时候需要在外边加一个epoch的for循环。把数据遍历n_epoch次\n",
    "    print(x)"
   ]
  },
  {
   "cell_type": "code",
   "execution_count": 35,
   "id": "2a72139f",
   "metadata": {},
   "outputs": [
    {
     "data": {
      "text/plain": [
       "[{'name': 'b', 'n_unique': 4, 'embed_size': 5},\n",
       " {'name': 'c', 'n_unique': 2, 'embed_size': 5}]"
      ]
     },
     "execution_count": 35,
     "metadata": {},
     "output_type": "execute_result"
    }
   ],
   "source": [
    "# 每个离散特征维护该域对应的C个embeeding\n",
    "cal_feature_list=[]\n",
    "for name in cal_names:\n",
    "    cal_feature_list.append(\n",
    "      {\"name\":name,\n",
    "       \"n_unique\":df[name].nunique(),\n",
    "       \"embed_size\":5\n",
    "      }\n",
    "    )\n",
    "cal_feature_list"
   ]
  },
  {
   "cell_type": "code",
   "execution_count": 36,
   "id": "5c94381c",
   "metadata": {},
   "outputs": [
    {
     "data": {
      "text/plain": [
       "ModuleDict(\n",
       "  (b): Embedding(4, 5)\n",
       "  (c): Embedding(2, 5)\n",
       ")"
      ]
     },
     "execution_count": 36,
     "metadata": {},
     "output_type": "execute_result"
    }
   ],
   "source": [
    "embedding_dict = nn.ModuleDict(\n",
    "    {feat['name']: nn.Embedding(feat['n_unique'], feat['embed_size'])\n",
    "     for feat in cal_feature_list}\n",
    ")\n",
    "embedding_dict"
   ]
  },
  {
   "cell_type": "code",
   "execution_count": 71,
   "id": "0d642b5d",
   "metadata": {},
   "outputs": [
    {
     "data": {
      "text/plain": [
       "Parameter containing:\n",
       "tensor([[-0.2252,  1.9799,  0.7338,  0.7225,  1.0330],\n",
       "        [-1.2191, -0.4461, -0.3038,  1.0229, -1.0642],\n",
       "        [-0.9499, -0.0350,  1.2186,  1.0014, -1.5774],\n",
       "        [ 1.3050,  1.5378,  0.3975,  1.2144,  0.7354]], requires_grad=True)"
      ]
     },
     "execution_count": 71,
     "metadata": {},
     "output_type": "execute_result"
    }
   ],
   "source": [
    "embedding_dict['b'].weight                                # 离散特征b对应的C个embedding"
   ]
  },
  {
   "cell_type": "code",
   "execution_count": 72,
   "id": "f53bb97a",
   "metadata": {},
   "outputs": [
    {
     "data": {
      "text/plain": [
       "Parameter containing:\n",
       "tensor([[ 2.8380,  0.4838, -0.0523, -0.6702, -1.1655],\n",
       "        [ 0.1504, -0.4948, -0.2001, -0.0315, -0.9504]], requires_grad=True)"
      ]
     },
     "execution_count": 72,
     "metadata": {},
     "output_type": "execute_result"
    }
   ],
   "source": [
    "embedding_dict['c'].weight                               # 离散特征c对应的2个embedding"
   ]
  },
  {
   "cell_type": "code",
   "execution_count": 67,
   "id": "1e361710",
   "metadata": {},
   "outputs": [
    {
     "data": {
      "text/plain": [
       "[tensor([[-0.2252,  1.9799,  0.7338,  0.7225,  1.0330],\n",
       "         [-1.2191, -0.4461, -0.3038,  1.0229, -1.0642],\n",
       "         [-0.9499, -0.0350,  1.2186,  1.0014, -1.5774],\n",
       "         [ 1.3050,  1.5378,  0.3975,  1.2144,  0.7354]],\n",
       "        grad_fn=<EmbeddingBackward>),\n",
       " tensor([[ 2.8380,  0.4838, -0.0523, -0.6702, -1.1655],\n",
       "         [ 0.1504, -0.4948, -0.2001, -0.0315, -0.9504],\n",
       "         [ 0.1504, -0.4948, -0.2001, -0.0315, -0.9504],\n",
       "         [ 2.8380,  0.4838, -0.0523, -0.6702, -1.1655]],\n",
       "        grad_fn=<EmbeddingBackward>)]"
      ]
     },
     "execution_count": 67,
     "metadata": {},
     "output_type": "execute_result"
    }
   ],
   "source": [
    "# 把样本的每个离散特征，映射为对应的embedding\n",
    "sparse_embedding_list = [embedding_dict[feat['name']] (mydata.get_col(feat['name']).long()  ) for feat in cal_feature_list]\n",
    "sparse_embedding_list   # 分别对应样本的第一个特征、第二个特征"
   ]
  },
  {
   "cell_type": "code",
   "execution_count": 74,
   "id": "6ce6b020",
   "metadata": {},
   "outputs": [
    {
     "data": {
      "text/html": [
       "<div>\n",
       "<style scoped>\n",
       "    .dataframe tbody tr th:only-of-type {\n",
       "        vertical-align: middle;\n",
       "    }\n",
       "\n",
       "    .dataframe tbody tr th {\n",
       "        vertical-align: top;\n",
       "    }\n",
       "\n",
       "    .dataframe thead th {\n",
       "        text-align: right;\n",
       "    }\n",
       "</style>\n",
       "<table border=\"1\" class=\"dataframe\">\n",
       "  <thead>\n",
       "    <tr style=\"text-align: right;\">\n",
       "      <th></th>\n",
       "      <th>b</th>\n",
       "      <th>c</th>\n",
       "    </tr>\n",
       "  </thead>\n",
       "  <tbody>\n",
       "    <tr>\n",
       "      <th>0</th>\n",
       "      <td>0</td>\n",
       "      <td>0</td>\n",
       "    </tr>\n",
       "    <tr>\n",
       "      <th>1</th>\n",
       "      <td>1</td>\n",
       "      <td>1</td>\n",
       "    </tr>\n",
       "    <tr>\n",
       "      <th>2</th>\n",
       "      <td>2</td>\n",
       "      <td>1</td>\n",
       "    </tr>\n",
       "    <tr>\n",
       "      <th>3</th>\n",
       "      <td>3</td>\n",
       "      <td>0</td>\n",
       "    </tr>\n",
       "  </tbody>\n",
       "</table>\n",
       "</div>"
      ],
      "text/plain": [
       "   b  c\n",
       "0  0  0\n",
       "1  1  1\n",
       "2  2  1\n",
       "3  3  0"
      ]
     },
     "execution_count": 74,
     "metadata": {},
     "output_type": "execute_result"
    }
   ],
   "source": [
    "df[[\"b\",'c']]  # 对应每个样本的2个离散特征embedding"
   ]
  },
  {
   "cell_type": "code",
   "execution_count": 77,
   "id": "0bf5535e",
   "metadata": {},
   "outputs": [
    {
     "data": {
      "text/plain": [
       "tensor([[-0.2252,  1.9799,  0.7338,  0.7225,  1.0330,  2.8380,  0.4838, -0.0523,\n",
       "         -0.6702, -1.1655],\n",
       "        [-1.2191, -0.4461, -0.3038,  1.0229, -1.0642,  0.1504, -0.4948, -0.2001,\n",
       "         -0.0315, -0.9504],\n",
       "        [-0.9499, -0.0350,  1.2186,  1.0014, -1.5774,  0.1504, -0.4948, -0.2001,\n",
       "         -0.0315, -0.9504],\n",
       "        [ 1.3050,  1.5378,  0.3975,  1.2144,  0.7354,  2.8380,  0.4838, -0.0523,\n",
       "         -0.6702, -1.1655]], grad_fn=<CatBackward>)"
      ]
     },
     "execution_count": 77,
     "metadata": {},
     "output_type": "execute_result"
    }
   ],
   "source": [
    "fm_input=torch.cat(sparse_embedding_list, dim=1)  # 每个样本的每列离散特征，经过embedding后，concat到一起\n",
    "fm_input"
   ]
  },
  {
   "cell_type": "code",
   "execution_count": 90,
   "id": "b50fc9ac",
   "metadata": {},
   "outputs": [],
   "source": [
    "fm_input= fm_input.detach().numpy()                # embedding后，每个位置对应的元素22相乘。捕捉类别共现信号"
   ]
  },
  {
   "cell_type": "code",
   "execution_count": 91,
   "id": "b9fd3a4f",
   "metadata": {},
   "outputs": [
    {
     "data": {
      "text/plain": [
       "<tf.Tensor: shape=(4, 1), dtype=float32, numpy=\n",
       "array([[32.238087 ],\n",
       "       [12.506633 ],\n",
       "       [ 3.4921005],\n",
       "       [43.8768   ]], dtype=float32)>"
      ]
     },
     "execution_count": 91,
     "metadata": {},
     "output_type": "execute_result"
    }
   ],
   "source": [
    "# 离散特征embedding后。按元素22交互： [x]\n",
    "import tensorflow as tf\n",
    "summ=tf.reduce_sum(fm_input, axis=1, keepdims=True)  # 第一项是和的平方\n",
    "square_of_sum=tf.square(summ)\n",
    "square_of_sum"
   ]
  },
  {
   "cell_type": "code",
   "execution_count": 93,
   "id": "62d5ada1",
   "metadata": {},
   "outputs": [
    {
     "data": {
      "text/plain": [
       "<tf.Tensor: shape=(4, 1), dtype=float32, numpy=\n",
       "array([[16.197065],\n",
       "       [ 5.167873],\n",
       "       [ 7.091295],\n",
       "       [16.340336]], dtype=float32)>"
      ]
     },
     "execution_count": 93,
     "metadata": {},
     "output_type": "execute_result"
    }
   ],
   "source": [
    "# 第二项是平方的和\n",
    "sum_of_square=tf.reduce_sum( fm_input * fm_input, axis=1, keepdims=True)\n",
    "sum_of_square"
   ]
  },
  {
   "cell_type": "code",
   "execution_count": 95,
   "id": "a75cf579",
   "metadata": {},
   "outputs": [
    {
     "data": {
      "text/plain": [
       "<tf.Tensor: shape=(4, 1), dtype=float32, numpy=\n",
       "array([[ 8.020511 ],\n",
       "       [ 3.66938  ],\n",
       "       [-1.7995971],\n",
       "       [13.768232 ]], dtype=float32)>"
      ]
     },
     "execution_count": 95,
     "metadata": {},
     "output_type": "execute_result"
    }
   ],
   "source": [
    "y_FM_order2=0.5* (square_of_sum-sum_of_square)\n",
    "y_FM_order2"
   ]
  }
 ],
 "metadata": {
  "kernelspec": {
   "display_name": "Python 3 (ipykernel)",
   "language": "python",
   "name": "python3"
  },
  "language_info": {
   "codemirror_mode": {
    "name": "ipython",
    "version": 3
   },
   "file_extension": ".py",
   "mimetype": "text/x-python",
   "name": "python",
   "nbconvert_exporter": "python",
   "pygments_lexer": "ipython3",
   "version": "3.9.6"
  },
  "toc": {
   "base_numbering": 1,
   "nav_menu": {},
   "number_sections": true,
   "sideBar": true,
   "skip_h1_title": false,
   "title_cell": "Table of Contents",
   "title_sidebar": "Contents",
   "toc_cell": false,
   "toc_position": {},
   "toc_section_display": true,
   "toc_window_display": false
  }
 },
 "nbformat": 4,
 "nbformat_minor": 5
}
